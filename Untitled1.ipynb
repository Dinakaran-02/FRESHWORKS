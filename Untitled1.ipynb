{
 "cells": [
  {
   "cell_type": "code",
   "execution_count": 77,
   "metadata": {},
   "outputs": [],
   "source": [
    "import threading\n",
    "from threading import*\n",
    "import time\n",
    "\n",
    "d={}\n",
    "\n",
    "def create(key,value,timeout=0):\n",
    "    if key in d:\n",
    "        print(\"This key already exists\")\n",
    "    else:\n",
    "        if (key.isalpha()):\n",
    "            if len(d)<(1024*1024*1024) and value<=(16*1024*1024):\n",
    "                if timeout==0:\n",
    "                    l=[value,timeout]\n",
    "                else:\n",
    "                    l=[value,time.time()+timeout]\n",
    "                if len(key<=32):\n",
    "                      d[key]=1\n",
    "            else:\n",
    "                print(\"Memory limit exceeded\")\n",
    "        else:\n",
    "            print(\"invalid keyname\")          \n",
    "                       \n",
    "                    "
   ]
  },
  {
   "cell_type": "code",
   "execution_count": 63,
   "metadata": {},
   "outputs": [],
   "source": [
    "def read(key):\n",
    "    if key not in d:\n",
    "            print(\"The given key does not exists\")\n",
    "    else:\n",
    "        b=d[key]\n",
    "        if b[1]!=0:\n",
    "            if time.time<b[1]:\n",
    "                stri=str(key)+\":\"+str(b[0])\n",
    "                return stri\n",
    "            else:\n",
    "                print(\"Key has expired\")\n",
    "        else:\n",
    "            stri=str(key)+\":\"+str(b[0])\n",
    "            return stri"
   ]
  },
  {
   "cell_type": "code",
   "execution_count": 73,
   "metadata": {},
   "outputs": [],
   "source": [
    "def delete(key):\n",
    "    if key not in d:\n",
    "        print(\"The given key does not exists\")\n",
    "    else:\n",
    "        b=d[key]\n",
    "        if b[1]!=0:\n",
    "            if time.time<b[1]:\n",
    "                del d[key]\n",
    "                print(\"Key is successfully deleted\")\n",
    "            else:\n",
    "                print(\"Key has expired\")\n",
    "        else:\n",
    "            del d[key]\n",
    "            print(\"Key is successfully deleted\")"
   ]
  },
  {
   "cell_type": "code",
   "execution_count": 75,
   "metadata": {},
   "outputs": [],
   "source": [
    "def modify(key,value):\n",
    "    b=d[key]\n",
    "    if b[1]!=0:\n",
    "        if time.time<b[1]:\n",
    "            if key not in d:\n",
    "                print(\"The given key does not exist\")\n",
    "            else:\n",
    "                l=[]\n",
    "                l.append(value)\n",
    "                l.append(b[1])\n",
    "                d[key]=l\n",
    "        else:\n",
    "            print(\"Key has expired\")\n",
    "    else:\n",
    "        if key not in d:\n",
    "            print(\"The given key does not exist\")\n",
    "        else:\n",
    "            l=[]\n",
    "            l.append(value)\n",
    "            l.append(b[1])\n",
    "            d[key]=l\n",
    "            "
   ]
  },
  {
   "cell_type": "code",
   "execution_count": null,
   "metadata": {},
   "outputs": [],
   "source": []
  }
 ],
 "metadata": {
  "kernelspec": {
   "display_name": "Python 3",
   "language": "python",
   "name": "python3"
  },
  "language_info": {
   "codemirror_mode": {
    "name": "ipython",
    "version": 3
   },
   "file_extension": ".py",
   "mimetype": "text/x-python",
   "name": "python",
   "nbconvert_exporter": "python",
   "pygments_lexer": "ipython3",
   "version": "3.8.5"
  }
 },
 "nbformat": 4,
 "nbformat_minor": 4
}
